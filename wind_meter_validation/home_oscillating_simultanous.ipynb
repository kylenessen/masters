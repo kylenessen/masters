{
 "cells": [
  {
   "cell_type": "markdown",
   "metadata": {},
   "source": [
    "## Experimental Design\n",
    "In a closed room with no open windows or doors, I set up an oscillating fan blowing into the center of the room. The fan is a tower style home fan that is much taller than it is wide. \n",
    "\n",
    "I tied a string to the center of the fan and allowed the fan to oscillate all the way to the right. Here I placed one of the windLog instruments (FunStorm) as close as I could to the fan, which was sitting atop my dresser. I tied a knot in the string where the front of the wind instrument was placed. I did this so I could place the other two sensors nearly the same distance away from the fan. \n",
    "\n",
    "I allowed the fan to oscillate to the far left, where I placed the second windLog insturment (LlamaLog), being careful to align the instrument so that is the same distance away as FunStorm using the string. I completed the placement by putting the kestrel in the center using the string. \n",
    "\n",
    "The length of string that was used is approximately 0.40 m. The height of the sensors was 1.65 m. \n",
    "\n"
   ]
  }
 ],
 "metadata": {
  "language_info": {
   "name": "python"
  },
  "orig_nbformat": 4
 },
 "nbformat": 4,
 "nbformat_minor": 2
}
