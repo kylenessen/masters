{
 "cells": [
  {
   "cell_type": "code",
   "execution_count": 5,
   "metadata": {},
   "outputs": [
    {
     "ename": "ModuleNotFoundError",
     "evalue": "No module named 'arcpy'",
     "output_type": "error",
     "traceback": [
      "\u001b[0;31m---------------------------------------------------------------------------\u001b[0m",
      "\u001b[0;31mModuleNotFoundError\u001b[0m                       Traceback (most recent call last)",
      "\u001b[0;32m/var/folders/ww/j283g5cd3bd9k7z7_f2mxslc0000gn/T/ipykernel_35265/3140940993.py\u001b[0m in \u001b[0;36m<module>\u001b[0;34m\u001b[0m\n\u001b[0;32m----> 1\u001b[0;31m \u001b[0;32mimport\u001b[0m \u001b[0marcpy\u001b[0m\u001b[0;34m\u001b[0m\u001b[0;34m\u001b[0m\u001b[0m\n\u001b[0m\u001b[1;32m      2\u001b[0m \u001b[0;32mimport\u001b[0m \u001b[0mpandas\u001b[0m \u001b[0;32mas\u001b[0m \u001b[0mpd\u001b[0m\u001b[0;34m\u001b[0m\u001b[0;34m\u001b[0m\u001b[0m\n\u001b[1;32m      3\u001b[0m \u001b[0;32mfrom\u001b[0m \u001b[0marcpy\u001b[0m \u001b[0;32mimport\u001b[0m \u001b[0menv\u001b[0m\u001b[0;34m\u001b[0m\u001b[0;34m\u001b[0m\u001b[0m\n\u001b[1;32m      4\u001b[0m \u001b[0;34m\u001b[0m\u001b[0m\n\u001b[1;32m      5\u001b[0m \u001b[0;31m# Set the workspace\u001b[0m\u001b[0;34m\u001b[0m\u001b[0;34m\u001b[0m\u001b[0;34m\u001b[0m\u001b[0m\n",
      "\u001b[0;31mModuleNotFoundError\u001b[0m: No module named 'arcpy'"
     ]
    }
   ],
   "source": [
    "import arcpy\n",
    "import pandas as pd\n",
    "from arcpy import env\n",
    "\n",
    "# Set the workspace\n",
    "env.workspace = \"masters\\VSFB_site_selection\\VSFB_Sites\\Default.gdb\"\n",
    "\n",
    "# Specify the feature class\n",
    "fc = 'monarch_sites_VSFB'\n",
    "\n",
    "# Get the field names\n",
    "field_names = [f.name for f in arcpy.ListFields(fc)]\n",
    "\n",
    "# Create a pandas dataframe from the feature class\n",
    "data = [i for i in arcpy.da.SearchCursor(fc, field_names)]\n",
    "df = pd.DataFrame(data, columns=field_names)\n",
    "\n",
    "# Normalize the columns\n",
    "df['average_10yr_normalized'] = (df['average_10yr'] - df['average_10yr'].min()) / (df['average_10yr'].max() - df['average_10yr'].min())\n",
    "df['stdDev_10yr_normalized'] = (df['stdDev_10yr'] - df['stdDev_10yr'].min()) / (df['stdDev_10yr'].max() - df['stdDev_10yr'].min())\n",
    "df['count_10yr_normalized'] = (df['count_10yr'] - df['count_10yr'].min()) / (df['count_10yr'].max() - df['count_10yr'].min())\n",
    "\n",
    "# Calculate the ranking score\n",
    "df['ranking_score'] = (df['average_10yr_normalized'] + \n",
    "                       (1 - df['stdDev_10yr_normalized']) + \n",
    "                       df['count_10yr_normalized'])\n",
    "\n",
    "# Sort by the ranking score in descending order\n",
    "df = df.sort_values('ranking_score', ascending=False)\n",
    "\n",
    "# Print the ranked sites\n",
    "print(df[['SiteID', 'SiteName', 'ranking_score']])\n",
    "\n"
   ]
  },
  {
   "cell_type": "code",
   "execution_count": 3,
   "metadata": {},
   "outputs": [
    {
     "name": "stdout",
     "output_type": "stream",
     "text": [
      "Collecting package metadata (current_repodata.json): done\n",
      "Solving environment: failed with initial frozen solve. Retrying with flexible solve.\n",
      "Collecting package metadata (repodata.json): done\n",
      "Solving environment: failed with initial frozen solve. Retrying with flexible solve.\n",
      "\n",
      "PackagesNotFoundError: The following packages are not available from current channels:\n",
      "\n",
      "  - arcpy=3.1\n",
      "\n",
      "Current channels:\n",
      "\n",
      "  - https://conda.anaconda.org/esri/osx-64\n",
      "  - https://conda.anaconda.org/esri/noarch\n",
      "  - https://conda.anaconda.org/conda-forge/osx-64\n",
      "  - https://conda.anaconda.org/conda-forge/noarch\n",
      "  - https://repo.anaconda.com/pkgs/main/osx-64\n",
      "  - https://repo.anaconda.com/pkgs/main/noarch\n",
      "  - https://repo.anaconda.com/pkgs/r/osx-64\n",
      "  - https://repo.anaconda.com/pkgs/r/noarch\n",
      "\n",
      "To search for alternate channels that may provide the conda package you're\n",
      "looking for, navigate to\n",
      "\n",
      "    https://anaconda.org\n",
      "\n",
      "and use the search bar at the top of the page.\n",
      "\n",
      "\n",
      "\n",
      "Note: you may need to restart the kernel to use updated packages.\n"
     ]
    }
   ],
   "source": [
    "conda install arcpy=3.1 -c esri"
   ]
  },
  {
   "cell_type": "code",
   "execution_count": 3,
   "metadata": {},
   "outputs": [
    {
     "name": "stdout",
     "output_type": "stream",
     "text": [
      "Index(['OBJECTID', 'Shape', 'SiteID', 'SiteName', 'COUNTYNAME', 'Latitude',\n",
      "       'Longitude', 'IsWMTCSite', 'GlobalID', 'SiteIDText', 'RegionID',\n",
      "       'F1997', 'F1998', 'F1999', 'F2000', 'F2001', 'F2002', 'F2003', 'F2004',\n",
      "       'F2005', 'F2006', 'F2007', 'F2008', 'F2009', 'F2010', 'F2011', 'F2012',\n",
      "       'F2013', 'F2014', 'F2015', 'F2016', 'NY_F2016', 'F2017', 'NY_F2017',\n",
      "       'F2018', 'NY_F2018', 'F2019', 'NY_F2019', 'F2020', 'NY_F2020', 'F2021',\n",
      "       'NY_F2021', 'F2022', 'NY_F2022', 'Shape_Length', 'Shape_Area',\n",
      "       'max_value', 'max_year', 'count_variance', 'mad', 'Score',\n",
      "       'median_10yr', 'mad_10yr', 'score_10yr', 'average_10yr', 'count_10yr',\n",
      "       'stdDev_10yr', 'average_10yr_normalized', 'stdDev_10yr_normalized',\n",
      "       'count_10yr_normalized', 'ranking_score'],\n",
      "      dtype='object')\n"
     ]
    }
   ],
   "source": [
    "print(df.columns)\n",
    "\n"
   ]
  },
  {
   "cell_type": "code",
   "execution_count": 5,
   "metadata": {},
   "outputs": [],
   "source": [
    "# Add a new field to store the ranking score\n",
    "arcpy.AddField_management(fc, 'RankingScore', 'FLOAT')\n",
    "\n",
    "# Create a dictionary mapping SiteID to ranking_score\n",
    "ranking_dict = pd.Series(df.ranking_score.values, index=df.SiteID).to_dict()\n",
    "\n",
    "# Update the RankingScore field with the ranking scores\n",
    "with arcpy.da.UpdateCursor(fc, ['SiteID', 'RankingScore']) as cursor:\n",
    "    for row in cursor:\n",
    "        # Only update the row if the SiteID is in the ranking_dict\n",
    "        if row[0] in ranking_dict:\n",
    "            row[1] = ranking_dict[row[0]]\n",
    "            cursor.updateRow(row)\n"
   ]
  },
  {
   "cell_type": "code",
   "execution_count": null,
   "metadata": {},
   "outputs": [],
   "source": []
  }
 ],
 "metadata": {
  "kernelspec": {
   "display_name": "ArcGISPro",
   "language": "Python",
   "name": "python3"
  },
  "language_info": {
   "codemirror_mode": {
    "name": "ipython",
    "version": 3
   },
   "file_extension": ".py",
   "mimetype": "text/x-python",
   "name": "python",
   "nbconvert_exporter": "python",
   "pygments_lexer": "ipython3",
   "version": "3.8.12"
  }
 },
 "nbformat": 4,
 "nbformat_minor": 2
}
