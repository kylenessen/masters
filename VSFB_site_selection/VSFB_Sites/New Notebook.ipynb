{
 "cells": [
  {
   "cell_type": "code",
   "execution_count": 4,
   "metadata": {},
   "outputs": [
    {
     "name": "stdout",
     "output_type": "stream",
     "text": [
      "    SiteID                                   SiteName  ranking_score\n",
      "4   2699.0                Vandenberg AFB, Tangair Rd.       2.032585\n",
      "1   2696.0     Vandenberg AFB, Marshalia  Golf Course       1.936433\n",
      "16  2714.0           Vandenberg AFB, Dry Creek Canyon       1.872463\n",
      "13  2711.0                 Vandenberg AFB, Bear Creek       1.848677\n",
      "10  2707.0                Vandenberg AFB, 35th Street       1.799624\n",
      "14  2712.0              Vandenberg AFB, Spring Canyon       1.718890\n",
      "11  2709.0   Vandenberg AFB, Mesa Rd / Arguello Blvd.       1.698835\n",
      "0   2694.0              Vandenberg AFB, Point Sal Rd.       1.694494\n",
      "8   2703.0              Vandenberg AFB, Off Road Site       1.683606\n",
      "5   2700.0                  Vandenberg AFB, Cross Rd.       1.634831\n",
      "6   2701.0              Vandenberg AFB, Archery Range       1.633677\n",
      "3   2698.0                  Vandenberg AFB, Umbra Rd.       1.618552\n",
      "30  3246.0                  Vandenberg AFB, Minuteman       1.564019\n",
      "7   2702.0               Vandenberg AFB, Airfield Rd.       1.549281\n",
      "15  2713.0        Vandenberg AFB, Upper Spring Canyon       1.547710\n",
      "9   2704.0           Vandenberg AFB, Family Camp Site       1.528855\n",
      "28  2708.0     Vandenberg AFB, Water Treatment  Plant       1.522418\n",
      "26  3209.0           Vandenberg AFB, South Gate Grove       1.498169\n",
      "12  2710.0               Vandenberg AFB, Manzanita Rd       1.470535\n",
      "25  2822.0                  Vandenberg AFB, UDMH Site       1.385614\n",
      "20  2719.0                Vandenberg AFB, Cattle Pens       1.294047\n",
      "19  2718.0                 Vandenberg AFB, Boat House       1.293052\n",
      "2   2697.0         Vandenberg AFB, Rancho Lateral Rd.       1.235186\n",
      "23  2722.0          Vandenberg AFB, Jalama Beach Park       1.233676\n",
      "21  2720.0                 Vandenberg AFB, Round Hill       1.176325\n",
      "22  2721.0               Vandenberg AFB, Sudden Ranch       1.117647\n",
      "29  3243.0                   Vandenberg AFB, Rhea Rd.       1.116599\n",
      "17  2715.0               Vandenberg AFB, Honda Canyon            NaN\n",
      "18  2717.0              Vandenberg AFB, Cypress Ridge            NaN\n",
      "24  2821.0  Vandenberg AFB, Santa Ynez River Overlook            NaN\n",
      "27  2695.0             Vandenberg AFB, Purisima Hills            NaN\n"
     ]
    }
   ],
   "source": [
    "import arcpy\n",
    "import pandas as pd\n",
    "from arcpy import env\n",
    "\n",
    "# Set the workspace\n",
    "env.workspace = \"\\\\AMSBS\\RedirectedFolders\\kylen\\My Documents\\Code\\masters\\VSFB_site_selection\\VSFB_Sites\\Default.gdb\"\n",
    "\n",
    "# Specify the feature class\n",
    "fc = 'monarch_sites_VSFB'\n",
    "\n",
    "# Get the field names\n",
    "field_names = [f.name for f in arcpy.ListFields(fc)]\n",
    "\n",
    "# Create a pandas dataframe from the feature class\n",
    "data = [i for i in arcpy.da.SearchCursor(fc, field_names)]\n",
    "df = pd.DataFrame(data, columns=field_names)\n",
    "\n",
    "# Normalize the columns\n",
    "df['average_10yr_normalized'] = (df['average_10yr'] - df['average_10yr'].min()) / (df['average_10yr'].max() - df['average_10yr'].min())\n",
    "df['stdDev_10yr_normalized'] = (df['stdDev_10yr'] - df['stdDev_10yr'].min()) / (df['stdDev_10yr'].max() - df['stdDev_10yr'].min())\n",
    "df['count_10yr_normalized'] = (df['count_10yr'] - df['count_10yr'].min()) / (df['count_10yr'].max() - df['count_10yr'].min())\n",
    "\n",
    "# Calculate the ranking score\n",
    "df['ranking_score'] = (df['average_10yr_normalized'] + \n",
    "                       (1 - df['stdDev_10yr_normalized']) + \n",
    "                       df['count_10yr_normalized'])\n",
    "\n",
    "# Sort by the ranking score in descending order\n",
    "df = df.sort_values('ranking_score', ascending=False)\n",
    "\n",
    "# Print the ranked sites\n",
    "print(df[['SiteID', 'SiteName', 'ranking_score']])\n",
    "\n"
   ]
  },
  {
   "cell_type": "code",
   "execution_count": 3,
   "metadata": {},
   "outputs": [
    {
     "name": "stdout",
     "output_type": "stream",
     "text": [
      "Index(['OBJECTID', 'Shape', 'SiteID', 'SiteName', 'COUNTYNAME', 'Latitude',\n",
      "       'Longitude', 'IsWMTCSite', 'GlobalID', 'SiteIDText', 'RegionID',\n",
      "       'F1997', 'F1998', 'F1999', 'F2000', 'F2001', 'F2002', 'F2003', 'F2004',\n",
      "       'F2005', 'F2006', 'F2007', 'F2008', 'F2009', 'F2010', 'F2011', 'F2012',\n",
      "       'F2013', 'F2014', 'F2015', 'F2016', 'NY_F2016', 'F2017', 'NY_F2017',\n",
      "       'F2018', 'NY_F2018', 'F2019', 'NY_F2019', 'F2020', 'NY_F2020', 'F2021',\n",
      "       'NY_F2021', 'F2022', 'NY_F2022', 'Shape_Length', 'Shape_Area',\n",
      "       'max_value', 'max_year', 'count_variance', 'mad', 'Score',\n",
      "       'median_10yr', 'mad_10yr', 'score_10yr', 'average_10yr', 'count_10yr',\n",
      "       'stdDev_10yr', 'average_10yr_normalized', 'stdDev_10yr_normalized',\n",
      "       'count_10yr_normalized', 'ranking_score'],\n",
      "      dtype='object')\n"
     ]
    }
   ],
   "source": [
    "print(df.columns)\n",
    "\n"
   ]
  },
  {
   "cell_type": "code",
   "execution_count": 5,
   "metadata": {},
   "outputs": [],
   "source": [
    "# Add a new field to store the ranking score\n",
    "arcpy.AddField_management(fc, 'RankingScore', 'FLOAT')\n",
    "\n",
    "# Create a dictionary mapping SiteID to ranking_score\n",
    "ranking_dict = pd.Series(df.ranking_score.values, index=df.SiteID).to_dict()\n",
    "\n",
    "# Update the RankingScore field with the ranking scores\n",
    "with arcpy.da.UpdateCursor(fc, ['SiteID', 'RankingScore']) as cursor:\n",
    "    for row in cursor:\n",
    "        # Only update the row if the SiteID is in the ranking_dict\n",
    "        if row[0] in ranking_dict:\n",
    "            row[1] = ranking_dict[row[0]]\n",
    "            cursor.updateRow(row)\n"
   ]
  },
  {
   "cell_type": "code",
   "execution_count": null,
   "metadata": {},
   "outputs": [],
   "source": []
  }
 ],
 "metadata": {
  "kernelspec": {
   "display_name": "ArcGISPro",
   "language": "Python",
   "name": "python3"
  },
  "language_info": {
   "file_extension": ".py",
   "name": "python",
   "version": "3"
  }
 },
 "nbformat": 4,
 "nbformat_minor": 2
}
