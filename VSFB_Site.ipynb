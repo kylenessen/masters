{
 "cells": [
  {
   "cell_type": "code",
   "execution_count": 3,
   "metadata": {},
   "outputs": [],
   "source": [
    "import geopandas as gpd\n",
    "import pandas as pd"
   ]
  },
  {
   "cell_type": "code",
   "execution_count": 4,
   "metadata": {},
   "outputs": [
    {
     "data": {
      "text/html": [
       "<div>\n",
       "<style scoped>\n",
       "    .dataframe tbody tr th:only-of-type {\n",
       "        vertical-align: middle;\n",
       "    }\n",
       "\n",
       "    .dataframe tbody tr th {\n",
       "        vertical-align: top;\n",
       "    }\n",
       "\n",
       "    .dataframe thead th {\n",
       "        text-align: right;\n",
       "    }\n",
       "</style>\n",
       "<table border=\"1\" class=\"dataframe\">\n",
       "  <thead>\n",
       "    <tr style=\"text-align: right;\">\n",
       "      <th></th>\n",
       "      <th>SiteID</th>\n",
       "      <th>SiteName</th>\n",
       "      <th>COUNTYNAME</th>\n",
       "      <th>Latitude</th>\n",
       "      <th>Longitude</th>\n",
       "      <th>IsWMTCSite</th>\n",
       "      <th>GlobalID</th>\n",
       "      <th>SiteIDText</th>\n",
       "      <th>RegionID</th>\n",
       "      <th>F1997</th>\n",
       "      <th>...</th>\n",
       "      <th>mad</th>\n",
       "      <th>Score</th>\n",
       "      <th>median_10y</th>\n",
       "      <th>mad_10yr</th>\n",
       "      <th>score_10yr</th>\n",
       "      <th>average_10</th>\n",
       "      <th>count_10yr</th>\n",
       "      <th>stdDev_10y</th>\n",
       "      <th>RankingSco</th>\n",
       "      <th>geometry</th>\n",
       "    </tr>\n",
       "  </thead>\n",
       "  <tbody>\n",
       "    <tr>\n",
       "      <th>0</th>\n",
       "      <td>2699.0</td>\n",
       "      <td>Vandenberg AFB, Tangair Rd.</td>\n",
       "      <td>Santa Barbara</td>\n",
       "      <td>34.751246</td>\n",
       "      <td>-120.611795</td>\n",
       "      <td>Y</td>\n",
       "      <td>{295A84FE-591E-4583-956B-BFDA5339BA56}</td>\n",
       "      <td>2699</td>\n",
       "      <td>r0011</td>\n",
       "      <td>25500.0</td>\n",
       "      <td>...</td>\n",
       "      <td>1410.5</td>\n",
       "      <td>18.078695</td>\n",
       "      <td>692.0</td>\n",
       "      <td>692.0</td>\n",
       "      <td>0.0</td>\n",
       "      <td>1489.0</td>\n",
       "      <td>17</td>\n",
       "      <td>1810.732552</td>\n",
       "      <td>2.03258</td>\n",
       "      <td>POLYGON ((-13426334.279 4130527.525, -13426296...</td>\n",
       "    </tr>\n",
       "  </tbody>\n",
       "</table>\n",
       "<p>1 rows × 57 columns</p>\n",
       "</div>"
      ],
      "text/plain": [
       "   SiteID                     SiteName     COUNTYNAME   Latitude   Longitude  \\\n",
       "0  2699.0  Vandenberg AFB, Tangair Rd.  Santa Barbara  34.751246 -120.611795   \n",
       "\n",
       "  IsWMTCSite                                GlobalID SiteIDText RegionID  \\\n",
       "0          Y  {295A84FE-591E-4583-956B-BFDA5339BA56}       2699    r0011   \n",
       "\n",
       "     F1997  ...     mad      Score  median_10y  mad_10yr  score_10yr  \\\n",
       "0  25500.0  ...  1410.5  18.078695       692.0     692.0         0.0   \n",
       "\n",
       "   average_10  count_10yr   stdDev_10y  RankingSco  \\\n",
       "0      1489.0          17  1810.732552     2.03258   \n",
       "\n",
       "                                            geometry  \n",
       "0  POLYGON ((-13426334.279 4130527.525, -13426296...  \n",
       "\n",
       "[1 rows x 57 columns]"
      ]
     },
     "execution_count": 4,
     "metadata": {},
     "output_type": "execute_result"
    }
   ],
   "source": [
    "df = gpd.read_file('VSFB_site_selection/VSFB_Sites/VSFB_sites.shp')\n",
    "df.head()"
   ]
  },
  {
   "cell_type": "code",
   "execution_count": null,
   "metadata": {},
   "outputs": [],
   "source": []
  }
 ],
 "metadata": {
  "kernelspec": {
   "display_name": "Python 3",
   "language": "python",
   "name": "python3"
  },
  "language_info": {
   "codemirror_mode": {
    "name": "ipython",
    "version": 3
   },
   "file_extension": ".py",
   "mimetype": "text/x-python",
   "name": "python",
   "nbconvert_exporter": "python",
   "pygments_lexer": "ipython3",
   "version": "3.10.12"
  },
  "orig_nbformat": 4
 },
 "nbformat": 4,
 "nbformat_minor": 2
}
